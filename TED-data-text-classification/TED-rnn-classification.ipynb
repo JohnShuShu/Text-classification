{
 "cells": [
  {
   "cell_type": "markdown",
   "metadata": {
    "deletable": true,
    "editable": true
   },
   "source": [
    "# step0: dependencies"
   ]
  },
  {
   "cell_type": "code",
   "execution_count": 1,
   "metadata": {
    "collapsed": true,
    "deletable": true,
    "editable": true
   },
   "outputs": [],
   "source": [
    "import numpy as np\n",
    "import tensorflow as tf\n",
    "from collections import Counter\n",
    "from random import shuffle\n",
    "from gensim.models import KeyedVectors\n",
    "\n",
    "import matplotlib.pyplot as plt\n",
    "%matplotlib inline\n",
    "\n",
    "import re\n",
    "import os\n",
    "import urllib.request\n",
    "import zipfile\n",
    "import lxml.etree"
   ]
  },
  {
   "cell_type": "markdown",
   "metadata": {
    "deletable": true,
    "editable": true
   },
   "source": [
    "# step1: load data"
   ]
  },
  {
   "cell_type": "code",
   "execution_count": 2,
   "metadata": {
    "collapsed": false,
    "deletable": true,
    "editable": true
   },
   "outputs": [],
   "source": [
    "# Download the dataset if it's not already there\n",
    "if not os.path.isfile('ted_en-20160408.zip'):\n",
    "    urllib.request.urlretrieve(\"https://wit3.fbk.eu/get.php?path=XML_releases/xml/ted_en-20160408.zip&filename=ted_en-20160408.zip\", filename=\"ted_en-20160408.zip\")"
   ]
  },
  {
   "cell_type": "code",
   "execution_count": 3,
   "metadata": {
    "collapsed": false,
    "deletable": true,
    "editable": true
   },
   "outputs": [],
   "source": [
    "# extract both the texts and the labels from the xml file\n",
    "with zipfile.ZipFile('ted_en-20160408.zip', 'r') as z:\n",
    "    doc = lxml.etree.parse(z.open('ted_en-20160408.xml', 'r'))\n",
    "texts = doc.xpath('//content/text()')\n",
    "labels = doc.xpath('//head/keywords/text()')\n",
    "del doc"
   ]
  },
  {
   "cell_type": "code",
   "execution_count": 4,
   "metadata": {
    "collapsed": false,
    "deletable": true,
    "editable": true
   },
   "outputs": [
    {
     "name": "stdout",
     "output_type": "stream",
     "text": [
      "There are 2085 input texts, each a long string with text and punctuation.\n",
      "\n",
      "Here are two reasons companies fail: they only do more of the same, or they only do what's new.\n",
      "To m\n"
     ]
    }
   ],
   "source": [
    "print(\"There are {} input texts, each a long string with text and punctuation.\".format(len(texts)))\n",
    "print(\"\")\n",
    "print(texts[0][:100])"
   ]
  },
  {
   "cell_type": "code",
   "execution_count": 5,
   "metadata": {
    "collapsed": false,
    "deletable": true,
    "editable": true
   },
   "outputs": [
    {
     "name": "stdout",
     "output_type": "stream",
     "text": [
      "There are 2085 labels in the form of keywords for each text.\n",
      "\n",
      "talks, business, creativity, curiosity, goal-setting, innovation, motivation, potential, success, work\n"
     ]
    }
   ],
   "source": [
    "print(\"There are {} labels in the form of keywords for each text.\".format(len(labels)))\n",
    "print(\"\")\n",
    "print(labels[0])"
   ]
  },
  {
   "cell_type": "markdown",
   "metadata": {
    "deletable": true,
    "editable": true
   },
   "source": [
    "# step2: preprocess and tokenize"
   ]
  },
  {
   "cell_type": "code",
   "execution_count": 6,
   "metadata": {
    "collapsed": false,
    "deletable": true,
    "editable": true
   },
   "outputs": [
    {
     "name": "stdout",
     "output_type": "stream",
     "text": [
      "2085\n",
      "['here', 'are', 'two', 'reasons', 'companies', 'fail', '<:_token>', 'they', 'only', 'do', 'more', 'of', 'the', 'same', '<,_token>', 'or', 'they', 'only', 'do', 'what', \"<'_token>\", 's', 'new', '<._token>', 'to', 'me', 'the', 'real', '<,_token>', 'real', 'solution', 'to', 'quality', 'growth', 'is', 'figuring', 'out', 'the', 'balance', 'between', 'two', 'activities', '<:_token>', 'exploration', 'and', 'exploitation', '<._token>', 'both', 'are', 'necessary', '<,_token>', 'but', 'it', 'can', 'be', 'too', 'much', 'of', 'a', 'good', 'thing', '<._token>', 'consider', 'facit', '<._token>', 'i', \"<'_token>\", 'm', 'actually', 'old', 'enough', 'to', 'remember', 'them', '<._token>', 'facit', 'was', 'a', 'fantastic', 'company', '<._token>', 'they', 'were', 'born', 'deep', 'in', 'the', 'swedish', 'forest', '<,_token>', 'and', 'they', 'made', 'the', 'best', 'mechanical', 'calculators', 'in', 'the', 'world']\n"
     ]
    }
   ],
   "source": [
    "# preprocess the texts: lowercase, replace punctuation with tokens, tokenize into words (split on whitespace)\n",
    "#lowercase\n",
    "input_texts = [input_text.lower() for input_text in texts]\n",
    "#replace punctuation with punctuation tokens\n",
    "input_texts = [re.sub(r'([^a-z0-9\\s])', r' <\\1_token> ', input_text) for input_text in input_texts]\n",
    "#tokenize into words\n",
    "input_texts = [input_text.split() for input_text in input_texts]\n",
    "print(len(input_texts))\n",
    "print(input_texts[0][:100])"
   ]
  },
  {
   "cell_type": "code",
   "execution_count": 7,
   "metadata": {
    "collapsed": false,
    "deletable": true,
    "editable": true
   },
   "outputs": [
    {
     "name": "stdout",
     "output_type": "stream",
     "text": [
      "[  6.00000000e+00   8.10500000e+02   1.61500000e+03   2.41950000e+03\n",
      "   3.22400000e+03   4.02850000e+03   4.83300000e+03   5.63750000e+03\n",
      "   6.44200000e+03   7.24650000e+03   8.05100000e+03]\n"
     ]
    },
    {
     "data": {
      "text/plain": [
       "<Container object of 10 artists>"
      ]
     },
     "execution_count": 7,
     "metadata": {},
     "output_type": "execute_result"
    },
    {
     "data": {
      "image/png": "[encoded data removed]",
      "text/plain": [
       "<matplotlib.figure.Figure at 0x7f8b4c413780>"
      ]
     },
     "metadata": {},
     "output_type": "display_data"
    }
   ],
   "source": [
    "#histogram over input lengths\n",
    "Y_plot, X_plot = np.histogram([len(text) for text in input_texts], bins=10)\n",
    "print(X_plot)\n",
    "X_plot = np.arange(10)\n",
    "plt.bar(X_plot, +Y_plot, facecolor='#9999ff', edgecolor='white')"
   ]
  },
  {
   "cell_type": "code",
   "execution_count": 8,
   "metadata": {
    "collapsed": false,
    "deletable": true,
    "editable": true
   },
   "outputs": [
    {
     "name": "stdout",
     "output_type": "stream",
     "text": [
      "There are now only 2037 inputs left.\n"
     ]
    }
   ],
   "source": [
    "#remove all inputs that have less than 500 tokens in them\n",
    "inputs = zip(input_texts, labels)\n",
    "inputs = [text_and_labels for text_and_labels in inputs if len(text_and_labels[0]) > 500]\n",
    "print(\"There are now only {} inputs left.\".format(len(inputs)))\n",
    "input_texts, labels = zip(*inputs)\n",
    "input_texts, labels = list(input_texts), list(labels)"
   ]
  },
  {
   "cell_type": "code",
   "execution_count": 9,
   "metadata": {
    "collapsed": false,
    "deletable": true,
    "editable": true
   },
   "outputs": [
    {
     "name": "stdout",
     "output_type": "stream",
     "text": [
      "There are 5353320 tokens in the dataset.\n",
      "There are 18428 tokens that appear only once.\n",
      "There are 18528 unique tokens to remove.\n",
      "There are now only 2012408 tokens in the dataset.\n"
     ]
    }
   ],
   "source": [
    "#get list of all words, and feed them into a Counter\n",
    "all_words = [word for input_text in input_texts for word in input_text]\n",
    "print(\"There are {} tokens in the dataset.\".format(len(all_words)))\n",
    "all_words_counter = Counter(all_words)\n",
    "\n",
    "#remove some noise, take away the 100 most common and all words that only appear once\n",
    "most_common_50 = [word for word, count in all_words_counter.most_common(100)]\n",
    "only_once = [word for word, count in all_words_counter.most_common() if count == 1]\n",
    "print(\"There are {} tokens that appear only once.\".format(len(only_once)))\n",
    "\n",
    "to_remove = set(only_once + most_common_50)\n",
    "print(\"There are {} unique tokens to remove.\".format(len(to_remove)))\n",
    "\n",
    "input_texts = [[word for word in input_text if word not in to_remove] for input_text in input_texts]\n",
    "\n",
    "new_all_words = [word for input_text in input_texts for word in input_text]\n",
    "print(\"There are now only {} tokens in the dataset.\".format(len(new_all_words)))\n",
    "\n",
    "#input_texts[0]"
   ]
  },
  {
   "cell_type": "code",
   "execution_count": 10,
   "metadata": {
    "collapsed": false,
    "deletable": true,
    "editable": true
   },
   "outputs": [
    {
     "data": {
      "text/plain": [
       "[0, 0, 0, 3, 5, 0, 0, 0, 0, 5]"
      ]
     },
     "execution_count": 10,
     "metadata": {},
     "output_type": "execute_result"
    }
   ],
   "source": [
    "# preprocess the labels: search for occurences of the keywords \"technology\", \"entertainment\" or \"design\" and build labels\n",
    "label_lookup = ['ooo', 'Too', 'oEo', 'ooD', 'TEo', 'ToD', 'oED', 'TED']\n",
    "for i in range(len(labels)):\n",
    "    ted_labels = ['o', 'o', 'o']\n",
    "    keyword_list = labels[i].split(', ')\n",
    "    if 'technology' in keyword_list:\n",
    "        ted_labels[0] = 'T'\n",
    "    if 'entertainment' in keyword_list:\n",
    "        ted_labels[1] = 'E'\n",
    "    if 'design' in keyword_list:\n",
    "        ted_labels[2] = 'D'\n",
    "    labels[i] = ''.join(ted_labels)\n",
    "    labels[i] = label_lookup.index(labels[i])\n",
    "len(labels)\n",
    "labels[:10]"
   ]
  },
  {
   "cell_type": "code",
   "execution_count": 11,
   "metadata": {
    "collapsed": false,
    "deletable": true,
    "editable": true
   },
   "outputs": [
    {
     "name": "stdout",
     "output_type": "stream",
     "text": [
      "[[1 0 0 0 0 0 0 0]\n",
      " [1 0 0 0 0 0 0 0]\n",
      " [1 0 0 0 0 0 0 0]\n",
      " [0 0 0 1 0 0 0 0]\n",
      " [0 0 0 0 0 1 0 0]\n",
      " [1 0 0 0 0 0 0 0]\n",
      " [1 0 0 0 0 0 0 0]\n",
      " [1 0 0 0 0 0 0 0]\n",
      " [1 0 0 0 0 0 0 0]\n",
      " [0 0 0 0 0 1 0 0]]\n"
     ]
    }
   ],
   "source": [
    "# transform labels to one-hot\n",
    "labels_one_hot = np.zeros((len(labels), 8), dtype=int)            \n",
    "labels_one_hot[range(len(labels)), labels] = 1\n",
    "print(labels_one_hot[:10])"
   ]
  },
  {
   "cell_type": "code",
   "execution_count": 12,
   "metadata": {
    "collapsed": false,
    "deletable": true,
    "editable": true
   },
   "outputs": [
    {
     "name": "stdout",
     "output_type": "stream",
     "text": [
      "['mended', 'scott', 'analyzes', 'negligible', 'titillate', 'egan', 'skewed', 'collaborative', 'yo', 'trouser']\n",
      "36278\n",
      "36278\n",
      "[23671, 26313, 24371, 4147, 5524, 10293, 5524, 8643, 6031, 6031, 19774, 34453, 35035, 33545, 32118, 13759, 23671, 19335, 11769, 8408, 32962, 22091, 12183, 9610, 30199, 21966, 9080, 27460, 34211, 3345, 30967, 27460, 1385, 24827, 15380, 30077, 14724, 35266, 30330, 4290, 6854, 13579, 17178, 15853, 6905, 27460, 16360, 17029, 15547, 11638, 28544, 10230, 19657, 10293, 10933, 20058, 28481, 27719, 13873, 20628, 20628, 1648, 27460, 10312, 1302, 27460, 19130, 9607, 1620, 12386, 16360, 13579, 13172, 15853, 16545, 27168, 13579, 27460, 6905, 12183, 9610, 8408, 11769, 9372, 7330, 12183, 4107, 18360, 17706, 18039, 4353, 22076, 18899, 24827, 3121, 9907, 31905, 24827, 1690, 23127]\n"
     ]
    }
   ],
   "source": [
    "# creating the unique vocabulary lookup\n",
    "vocab_list = list(set([word for input_text in input_texts for word in input_text]))\n",
    "word_to_index = {}\n",
    "index_to_word = {}\n",
    "for i, word in enumerate(vocab_list, 1):\n",
    "    word_to_index[word] = i\n",
    "    index_to_word[i] = word\n",
    "input_indices_list = []\n",
    "for input_text in input_texts:\n",
    "    input_indices_list.append([word_to_index[word] for word in input_text])\n",
    "#del vocab_list\n",
    "#del input_texts\n",
    "print(vocab_list[:10])\n",
    "print(len(vocab_list))\n",
    "print(len(word_to_index))\n",
    "print(input_indices_list[0][:100])"
   ]
  },
  {
   "cell_type": "code",
   "execution_count": 13,
   "metadata": {
    "collapsed": false,
    "deletable": true,
    "editable": true
   },
   "outputs": [],
   "source": [
    "#load glove word vectors\n",
    "glove = KeyedVectors.load_word2vec_format('glove.6B.50d.w2vformat.txt', binary=False)"
   ]
  },
  {
   "cell_type": "code",
   "execution_count": 14,
   "metadata": {
    "collapsed": false,
    "deletable": true,
    "editable": true
   },
   "outputs": [
    {
     "name": "stdout",
     "output_type": "stream",
     "text": [
      "35111/36278 words found in glove.\n"
     ]
    }
   ],
   "source": [
    "#creating embeddings, checking for each word in the input texts whether it is part of \n",
    "#the glove corpus, if yes intialize that row in the embeddings with the glove value, if\n",
    "#not initialize it uniformly between [-1.0, 1.0]\n",
    "voc_len = len(word_to_index)\n",
    "count = 0\n",
    "embeddings = np.random.uniform(-.3, .3, size=(voc_len+1, 50))\n",
    "for word, index in word_to_index.items():\n",
    "    if word in glove.vocab:\n",
    "        count += 1\n",
    "        embeddings[index] = glove[word]\n",
    "print(\"{}/{} words found in glove.\".format(count, voc_len))"
   ]
  },
  {
   "cell_type": "code",
   "execution_count": 15,
   "metadata": {
    "collapsed": false,
    "deletable": true,
    "editable": true
   },
   "outputs": [
    {
     "name": "stdout",
     "output_type": "stream",
     "text": [
      "(2037, 500)\n"
     ]
    }
   ],
   "source": [
    "# truncate every input text to a fixed length for now, taking only the first x tokens, zero pad if smaller\n",
    "seq_length = 500\n",
    "inputs_truncated = np.zeros((len(input_indices_list), seq_length), dtype=int)\n",
    "for i, input_indices in enumerate(input_indices_list):\n",
    "    if len(input_indices) >= seq_length:\n",
    "        inputs_truncated[i, :seq_length] = np.array(input_indices)[:seq_length]\n",
    "    else:\n",
    "        inputs_truncated[i] = np.array(input_indices + ([0] * (seq_length-len(input_indices))))\n",
    "print(inputs_truncated.shape)"
   ]
  },
  {
   "cell_type": "code",
   "execution_count": 16,
   "metadata": {
    "collapsed": false,
    "deletable": true,
    "editable": true
   },
   "outputs": [
    {
     "name": "stdout",
     "output_type": "stream",
     "text": [
      "(1630, 203, 204)\n"
     ]
    }
   ],
   "source": [
    "#keep the class label distribution intact\n",
    "inputs_combined = list(zip(inputs_truncated, labels_one_hot))\n",
    "inputs_train, inputs_test, inputs_cv = [], [], []\n",
    "for n in range(len(label_lookup)):\n",
    "    inputs_of_curr_class = [inpu for inpu in inputs_combined if np.argmax(inpu[1]) == n]\n",
    "    l = len(inputs_of_curr_class)\n",
    "    split1 = round(0.8*l)\n",
    "    split2 = round(0.9*l)\n",
    "    inputs_train.extend(inputs_of_curr_class[:split1])\n",
    "    inputs_cv.extend(inputs_of_curr_class[split1:split2])\n",
    "    inputs_test.extend(inputs_of_curr_class[split2:])\n",
    "\n",
    "shuffle(inputs_train)\n",
    "shuffle(inputs_cv)\n",
    "shuffle(inputs_test)\n",
    "print((len(inputs_train), len(inputs_test), len(inputs_cv)))"
   ]
  },
  {
   "cell_type": "code",
   "execution_count": 17,
   "metadata": {
    "collapsed": false,
    "deletable": true,
    "editable": true
   },
   "outputs": [],
   "source": [
    "#now after shuffling we can unzip them again\n",
    "train_x, train_y = list(zip(*inputs_train))\n",
    "train_x, train_y = np.array([np.array(x) for x in train_x]), np.array(train_y)\n",
    "test_x, test_y = list(zip(*inputs_test))\n",
    "test_x, test_y = np.array([np.array(x) for x in test_x]), np.array(test_y)\n",
    "cv_x, cv_y = list(zip(*inputs_cv))\n",
    "cv_x, cv_y = np.array([np.array(x) for x in cv_x]), np.array(cv_y)\n",
    "#train_y[:10]"
   ]
  },
  {
   "cell_type": "code",
   "execution_count": 18,
   "metadata": {
    "collapsed": false,
    "deletable": true,
    "editable": true
   },
   "outputs": [
    {
     "data": {
      "image/png": "[encoded data removed]",
      "text/plain": [
       "<matplotlib.figure.Figure at 0x7f8ad4728898>"
      ]
     },
     "metadata": {},
     "output_type": "display_data"
    }
   ],
   "source": [
    "#plotting a histogram over the label distribution in the entire dataset\n",
    "#as you can see 'ooo' is basically ~50% of the dataset, so an accuracy score\n",
    "#of 50% could be reached by simply learning to predict 'ooo' all the time (not good)\n",
    "Y_plot = np.histogram(labels, bins=8)[0]\n",
    "X_plot = np.arange(8)\n",
    "plt.bar(X_plot, +Y_plot, facecolor='#9999ff', edgecolor='white')\n",
    "for x,y in zip(X_plot,Y_plot):\n",
    "    plt.text(x, y+0.05, label_lookup[x], ha='center', va= 'bottom')"
   ]
  },
  {
   "cell_type": "markdown",
   "metadata": {
    "deletable": true,
    "editable": true
   },
   "source": [
    "# step3: building the model"
   ]
  },
  {
   "cell_type": "code",
   "execution_count": 26,
   "metadata": {
    "collapsed": false,
    "deletable": true,
    "editable": true
   },
   "outputs": [
    {
     "name": "stdout",
     "output_type": "stream",
     "text": [
      "50\n"
     ]
    }
   ],
   "source": [
    "num_epochs = 20\n",
    "batch_size = 200\n",
    "learning_rate = 0.001\n",
    "show_every_n_batches = 10\n",
    "\n",
    "# size of hidden RNN state\n",
    "rnn_size = 100\n",
    "# length of input sequences\n",
    "seq_length = 500\n",
    "step_length = 10\n",
    "num_steps = int(seq_length/step_length)\n",
    "print(num_steps)\n",
    "# length of word embeddings\n",
    "embed_length = 50\n",
    "#number of classes to classify between\n",
    "n_classes = 8\n",
    "#number of unique words in the vocabulary\n",
    "n_words = len(vocab_list)\n",
    "#number of RNN layers\n",
    "rnn_layers = 1"
   ]
  },
  {
   "cell_type": "code",
   "execution_count": 27,
   "metadata": {
    "collapsed": false,
    "deletable": true,
    "editable": true
   },
   "outputs": [],
   "source": [
    "# Create the graph object\n",
    "graph = tf.Graph()\n",
    "\n",
    "with graph.as_default():\n",
    "    inputs_ph = tf.placeholder(tf.int32, [None, seq_length], name='inputs')\n",
    "    labels_ph = tf.placeholder(tf.int32, [None, n_classes], name='labels')\n",
    "    keep_prob = tf.placeholder(tf.float32, name='keep_prob')"
   ]
  },
  {
   "cell_type": "code",
   "execution_count": 28,
   "metadata": {
    "collapsed": false,
    "deletable": true,
    "editable": true
   },
   "outputs": [
    {
     "name": "stdout",
     "output_type": "stream",
     "text": [
      "(?, 500, 50)\n"
     ]
    }
   ],
   "source": [
    "with graph.as_default():\n",
    "    #embedding = tf.Variable(tf.random_uniform((n_words, embed_length), -1, 1))\n",
    "    embedding = tf.Variable(embeddings, \"L\")\n",
    "    embed = tf.nn.embedding_lookup(embedding, inputs_ph)\n",
    "    embed = tf.cast(embed, dtype=tf.float32)\n",
    "    print(embed.get_shape())"
   ]
  },
  {
   "cell_type": "code",
   "execution_count": 29,
   "metadata": {
    "collapsed": false,
    "deletable": true,
    "editable": true
   },
   "outputs": [
    {
     "name": "stdout",
     "output_type": "stream",
     "text": [
      "(200, 500, 100)\n"
     ]
    }
   ],
   "source": [
    "with graph.as_default():\n",
    "    # LSTM forward and backward cells\n",
    "    lstm_fw = tf.contrib.rnn.BasicLSTMCell(rnn_size)\n",
    "    \n",
    "    # Add dropout to the cell\n",
    "    drop = tf.contrib.rnn.DropoutWrapper(lstm_fw, output_keep_prob=keep_prob)\n",
    "    \n",
    "    # Stack up multiple LSTM layers, for deep learning\n",
    "    cell = tf.contrib.rnn.MultiRNNCell([drop] * rnn_layers)\n",
    "    \n",
    "    # Getting an initial state of all zeros\n",
    "    initial_state = cell.zero_state(batch_size, tf.float32)\n",
    "    \n",
    "    #print(out)\n",
    "    # Computing the RNN outputs, truncated backprop style\n",
    "    outputs, final_state = tf.nn.dynamic_rnn(cell, tf.cast(embed, dtype=tf.float32), initial_state=initial_state)\n",
    "    print(outputs.get_shape())"
   ]
  },
  {
   "cell_type": "code",
   "execution_count": 30,
   "metadata": {
    "collapsed": false,
    "deletable": true,
    "editable": true,
    "scrolled": true
   },
   "outputs": [
    {
     "name": "stdout",
     "output_type": "stream",
     "text": [
      "(200, 8)\n",
      "()\n",
      "(200,)\n",
      "(200, 8)\n"
     ]
    }
   ],
   "source": [
    "with graph.as_default():\n",
    "    #out\n",
    "    #logits = tf.contrib.layers.fully_connected(inputs=outputs[:, -1], num_outputs=n_classes, activation_fn=None)\n",
    "    logits = tf.contrib.layers.fully_connected(inputs=tf.reduce_mean(outputs, axis=1), num_outputs=n_classes, activation_fn=None)\n",
    "    print(logits.get_shape())\n",
    "    \n",
    "    #loss\n",
    "    #l2_cost = tf.nn.l2_loss(W1) + tf.nn.l2_loss(b1)\n",
    "    cost = tf.reduce_mean(tf.nn.softmax_cross_entropy_with_logits(logits=logits, labels=labels_ph))# + (0.01*l2_cost)\n",
    "    optimizer = tf.train.AdamOptimizer(learning_rate).minimize(cost)\n",
    "            \n",
    "    #acc\n",
    "    #predictions = tf.nn.softmax(logits)\n",
    "    predictions = logits #no need to softmax here because we really only want the argmax\n",
    "    correct_predictions = tf.equal(tf.argmax(predictions, axis=1), tf.argmax(labels_ph, axis=1))\n",
    "    accuracy = tf.reduce_mean(tf.cast(correct_predictions, tf.float32))\n",
    "    \n",
    "    print(accuracy.get_shape())\n",
    "    print(correct_predictions.get_shape())\n",
    "    print(predictions.get_shape())"
   ]
  },
  {
   "cell_type": "code",
   "execution_count": 31,
   "metadata": {
    "collapsed": true,
    "deletable": true,
    "editable": true
   },
   "outputs": [],
   "source": [
    "def get_batches(x, y, batch_size=50):\n",
    "    n_batches = len(x)//batch_size\n",
    "    x, y = x[:n_batches*batch_size], y[:n_batches*batch_size]\n",
    "    for i in range(0, len(x), batch_size):\n",
    "        yield x[i:i+batch_size], y[i:i+batch_size]"
   ]
  },
  {
   "cell_type": "markdown",
   "metadata": {
    "deletable": true,
    "editable": true
   },
   "source": [
    "# step4: training"
   ]
  },
  {
   "cell_type": "code",
   "execution_count": 33,
   "metadata": {
    "collapsed": false,
    "deletable": true,
    "editable": true
   },
   "outputs": [
    {
     "name": "stdout",
     "output_type": "stream",
     "text": [
      "(1630, 8)\n",
      "(1630, 8)\n",
      "Epoch: 1/20 Iteration: 10 Train loss: 1.437\n",
      "Train acc: 0.510, Val acc: 0.550\n",
      "(1630, 8)\n",
      "Epoch: 2/20 Iteration: 20 Train loss: 1.329\n",
      "Train acc: 0.539, Val acc: 0.550\n",
      "(1630, 8)\n",
      "Epoch: 3/20 Iteration: 30 Train loss: 1.419\n",
      "Train acc: 0.538, Val acc: 0.550\n",
      "(1630, 8)\n",
      "Epoch: 4/20 Iteration: 40 Train loss: 1.141\n",
      "Train acc: 0.561, Val acc: 0.560\n",
      "(1630, 8)\n",
      "(1630, 8)\n",
      "Epoch: 6/20 Iteration: 50 Train loss: 1.098\n",
      "Train acc: 0.560, Val acc: 0.575\n",
      "(1630, 8)\n",
      "Epoch: 7/20 Iteration: 60 Train loss: 1.140\n",
      "Train acc: 0.565, Val acc: 0.570\n",
      "(1630, 8)\n",
      "Epoch: 8/20 Iteration: 70 Train loss: 1.183\n",
      "Train acc: 0.595, Val acc: 0.575\n",
      "(1630, 8)\n",
      "Epoch: 9/20 Iteration: 80 Train loss: 0.893\n",
      "Train acc: 0.627, Val acc: 0.615\n",
      "(1630, 8)\n",
      "(1630, 8)\n",
      "Epoch: 11/20 Iteration: 90 Train loss: 0.912\n",
      "Train acc: 0.632, Val acc: 0.620\n",
      "(1630, 8)\n",
      "Epoch: 12/20 Iteration: 100 Train loss: 0.964\n",
      "Train acc: 0.650, Val acc: 0.635\n",
      "(1630, 8)\n",
      "Epoch: 13/20 Iteration: 110 Train loss: 0.988\n",
      "Train acc: 0.659, Val acc: 0.610\n",
      "(1630, 8)\n",
      "Epoch: 14/20 Iteration: 120 Train loss: 0.730\n",
      "Train acc: 0.697, Val acc: 0.640\n",
      "(1630, 8)\n",
      "(1630, 8)\n",
      "Epoch: 16/20 Iteration: 130 Train loss: 0.765\n",
      "Train acc: 0.700, Val acc: 0.600\n",
      "(1630, 8)\n",
      "Epoch: 17/20 Iteration: 140 Train loss: 0.829\n",
      "Train acc: 0.714, Val acc: 0.630\n",
      "(1630, 8)\n",
      "Epoch: 18/20 Iteration: 150 Train loss: 0.906\n",
      "Train acc: 0.723, Val acc: 0.655\n",
      "(1630, 8)\n",
      "Epoch: 19/20 Iteration: 160 Train loss: 0.701\n",
      "Train acc: 0.729, Val acc: 0.625\n"
     ]
    }
   ],
   "source": [
    "with graph.as_default():\n",
    "    saver = tf.train.Saver()\n",
    "\n",
    "with tf.Session(graph=graph) as sess:\n",
    "    sess.run(tf.global_variables_initializer())\n",
    "    iteration = 1\n",
    "    for e in range(num_epochs):\n",
    "        state = sess.run(initial_state)\n",
    "        print(train_y.shape)\n",
    "        train_acc = []\n",
    "        for i, (x, y) in enumerate(get_batches(train_x, train_y, batch_size), 1):\n",
    "            feed = {inputs_ph: x,\n",
    "                    labels_ph: y,\n",
    "                    keep_prob: 0.5,\n",
    "                    initial_state: state}\n",
    "            loss, train_batch_acc, state, _ = sess.run([cost, accuracy, final_state, optimizer], feed_dict=feed)\n",
    "            train_acc.append(train_batch_acc)\n",
    "            \n",
    "            if iteration%10==0:\n",
    "                print(\"Epoch: {}/{}\".format(e, num_epochs),\n",
    "                      \"Iteration: {}\".format(iteration),\n",
    "                      \"Train loss: {:.3f}\".format(loss))\n",
    "\n",
    "            if iteration%10==0:\n",
    "                cv_acc = []\n",
    "                val_state = sess.run(cell.zero_state(batch_size, tf.float32))\n",
    "                for x, y in get_batches(cv_x, cv_y, batch_size):\n",
    "                    feed = {inputs_ph: x,\n",
    "                            labels_ph: y,\n",
    "                            keep_prob: 1.0,\n",
    "                            initial_state: val_state}\n",
    "                    pred, batch_acc, val_state = sess.run([predictions, accuracy, final_state], feed_dict=feed)\n",
    "                    cv_acc.append(batch_acc)\n",
    "                    #print(np.argmax(pred, axis=1))\n",
    "                    #print(np.argmax(y, axis=1))\n",
    "                print(\"Train acc: {:.3f}, Val acc: {:.3f}\".format(np.mean(train_acc), np.mean(cv_acc)))\n",
    "            iteration +=1\n",
    "    saver.save(sess, \"checkpoints/rnn_text_classification.ckpt\")"
   ]
  },
  {
   "cell_type": "markdown",
   "metadata": {
    "deletable": true,
    "editable": true
   },
   "source": [
    "# step5: testing"
   ]
  },
  {
   "cell_type": "code",
   "execution_count": 35,
   "metadata": {
    "collapsed": false,
    "deletable": true,
    "editable": true,
    "scrolled": true
   },
   "outputs": [
    {
     "name": "stdout",
     "output_type": "stream",
     "text": [
      "Test accuracy: 0.625\n"
     ]
    },
    {
     "data": {
      "text/plain": [
       "<matplotlib.legend.Legend at 0x7f8a811e80f0>"
      ]
     },
     "execution_count": 35,
     "metadata": {},
     "output_type": "execute_result"
    },
    {
     "data": {
      "image/png": "[encoded data removed]",
      "text/plain": [
       "<matplotlib.figure.Figure at 0x7f8a823434a8>"
      ]
     },
     "metadata": {},
     "output_type": "display_data"
    }
   ],
   "source": [
    "test_acc = []\n",
    "test_preds_acc = []\n",
    "true_labels_acc = []\n",
    "with tf.Session(graph=graph) as sess:\n",
    "    saver.restore(sess, tf.train.latest_checkpoint('checkpoints/'))\n",
    "    test_state = sess.run(cell.zero_state(batch_size, tf.float32))\n",
    "    for x, y in get_batches(test_x, test_y, batch_size):\n",
    "        feed = {inputs_ph: x,\n",
    "                labels_ph: y,\n",
    "                keep_prob: 1,\n",
    "                initial_state: test_state}\n",
    "        test_preds, batch_acc, test_state = sess.run([predictions, accuracy, final_state], feed_dict=feed)\n",
    "        test_acc.append(batch_acc)\n",
    "        test_preds_acc.extend(np.argmax(test_preds, axis=1))\n",
    "        true_labels_acc.extend(np.argmax(y, axis=1))\n",
    "        #print(np.argmax(test_preds, axis=1))\n",
    "        #print(np.argmax(y, axis=1))\n",
    "    print(\"Test accuracy: {:.3f}\".format(np.mean(test_acc)))\n",
    "\n",
    "bins = np.arange(9)\n",
    "plt.hist(np.array(test_preds_acc), bins, alpha=0.5, label='predictions')\n",
    "plt.hist(np.array(true_labels_acc), bins, alpha=0.5, label='truth')\n",
    "plt.legend(loc='upper right')  "
   ]
  },
  {
   "cell_type": "code",
   "execution_count": null,
   "metadata": {
    "collapsed": false,
    "deletable": true,
    "editable": true
   },
   "outputs": [],
   "source": [
    "print(input_texts[4][0:300])\n",
    "print(labels[4])"
   ]
  }
 ],
 "metadata": {
  "anaconda-cloud": {},
  "kernelspec": {
   "display_name": "Python 3",
   "language": "python",
   "name": "python3"
  },
  "language_info": {
   "codemirror_mode": {
    "name": "ipython",
    "version": 3
   },
   "file_extension": ".py",
   "mimetype": "text/x-python",
   "name": "python",
   "nbconvert_exporter": "python",
   "pygments_lexer": "ipython3",
   "version": "3.5.3"
  }
 },
 "nbformat": 4,
 "nbformat_minor": 2
}
